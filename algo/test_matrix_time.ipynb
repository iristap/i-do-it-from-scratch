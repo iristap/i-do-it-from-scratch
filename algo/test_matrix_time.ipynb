{
 "cells": [
  {
   "cell_type": "code",
   "execution_count": 2,
   "id": "4ccf339e",
   "metadata": {},
   "outputs": [
    {
     "name": "stdout",
     "output_type": "stream",
     "text": [
      "ijk: 0.8047559261322021\n",
      "kji: 0.8234207630157471\n",
      "ijk wins\n",
      "ijk: 0.8064944744110107\n",
      "kji: 0.8212778568267822\n",
      "ijk wins\n",
      "ijk: 0.8037588596343994\n",
      "kji: 0.8303306102752686\n",
      "ijk wins\n",
      "ijk: 0.8085322380065918\n",
      "kji: 0.8131613731384277\n",
      "ijk wins\n",
      "ijk: 0.8086245059967041\n",
      "kji: 0.8200516700744629\n",
      "ijk wins\n",
      "ijk: 0.8028919696807861\n",
      "kji: 0.8193793296813965\n",
      "ijk wins\n",
      "ijk: 0.8060774803161621\n",
      "kji: 0.8215913772583008\n",
      "ijk wins\n",
      "ijk: 0.8086264133453369\n",
      "kji: 0.843285322189331\n",
      "ijk wins\n",
      "ijk: 0.8190252780914307\n",
      "kji: 0.8451747894287109\n",
      "ijk wins\n",
      "ijk: 0.8110363483428955\n",
      "kji: 0.8153183460235596\n",
      "ijk wins\n"
     ]
    }
   ],
   "source": [
    "import numpy as np\n",
    "import time\n",
    "\n",
    "N = 200\n",
    "A = np.random.rand(N, N, N)\n",
    "\n",
    "def loop_ijk():\n",
    "    s = 0\n",
    "    for i in range(N):\n",
    "        for j in range(N):\n",
    "            for k in range(N):\n",
    "                s += A[i, j, k]\n",
    "    return s\n",
    "\n",
    "def loop_kji():\n",
    "    s = 0\n",
    "    for k in range(N):\n",
    "        for j in range(N):\n",
    "            for i in range(N):\n",
    "                s += A[i, j, k]\n",
    "    return s\n",
    "\n",
    "\n",
    "\n",
    "ijk_win = 0\n",
    "kji_win = 0\n",
    "\n",
    "for _ in range(10):\n",
    "    N = 200\n",
    "    A = np.random.rand(N, N, N)\n",
    "\n",
    "    start = time.time()\n",
    "    loop_ijk()\n",
    "    ijk = (time.time() - start)\n",
    "\n",
    "    start = time.time()\n",
    "    loop_kji()\n",
    "    kji = (time.time() - start)\n",
    "\n",
    "    print(\"ijk:\", ijk)\n",
    "    print(\"kji:\", kji)\n",
    "\n",
    "    if ijk < kji:\n",
    "        print(\"ijk wins\")\n",
    "        ijk_win += 1\n",
    "    else:\n",
    "        print(\"kji wins\")\n",
    "        kji_win += 1\n"
   ]
  }
 ],
 "metadata": {
  "kernelspec": {
   "display_name": "i-do-it-from-scratch",
   "language": "python",
   "name": "python3"
  },
  "language_info": {
   "codemirror_mode": {
    "name": "ipython",
    "version": 3
   },
   "file_extension": ".py",
   "mimetype": "text/x-python",
   "name": "python",
   "nbconvert_exporter": "python",
   "pygments_lexer": "ipython3",
   "version": "3.12.2"
  }
 },
 "nbformat": 4,
 "nbformat_minor": 5
}
