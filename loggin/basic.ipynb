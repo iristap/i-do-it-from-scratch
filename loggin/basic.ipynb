{
 "cells": [
  {
   "cell_type": "markdown",
   "id": "a4f2a1cb",
   "metadata": {},
   "source": [
    "easy logging"
   ]
  },
  {
   "cell_type": "code",
   "execution_count": 7,
   "id": "25c9d08b",
   "metadata": {},
   "outputs": [
    {
     "name": "stderr",
     "output_type": "stream",
     "text": [
      "INFO:root:starting the application\n",
      "WARNING:root:this is a warning message\n",
      "ERROR:root:something wrong\n",
      "CRITICAL:root:this is critical error\n"
     ]
    }
   ],
   "source": [
    "import logging\n",
    "\n",
    "# Simple logging example in Python\n",
    "logging.basicConfig(level=logging.INFO)\n",
    "\n",
    "logging.debug(\"this is a debug message\")\n",
    "logging.info(\"starting the application\")\n",
    "logging.warning(\"this is a warning message\")\n",
    "logging.error(\"something wrong\")\n",
    "logging.critical(\"this is critical error\")\n"
   ]
  },
  {
   "cell_type": "markdown",
   "id": "a516053e",
   "metadata": {},
   "source": [
    "การตั้ง Format ให้สวย"
   ]
  },
  {
   "cell_type": "code",
   "execution_count": 6,
   "id": "b61a5af8",
   "metadata": {},
   "outputs": [
    {
     "name": "stderr",
     "output_type": "stream",
     "text": [
      "INFO:root:loading file complete\n",
      "ERROR:root:file not found\n"
     ]
    }
   ],
   "source": [
    "logging.basicConfig(\n",
    "    level=logging.DEBUG,\n",
    "    format=\"%(asctime)s - %(levelname)s - %(message)s\"\n",
    ")\n",
    "\n",
    "logging.info(\"loading file complete\")\n",
    "logging.error(\"file not found\")\n"
   ]
  },
  {
   "cell_type": "markdown",
   "id": "4ee14216",
   "metadata": {},
   "source": [
    "Logging ลง file"
   ]
  },
  {
   "cell_type": "code",
   "execution_count": 9,
   "id": "73907655",
   "metadata": {},
   "outputs": [
    {
     "name": "stderr",
     "output_type": "stream",
     "text": [
      "INFO:root:starting the application\n",
      "ERROR:root:can't connect to database\n"
     ]
    }
   ],
   "source": [
    "logging.basicConfig(\n",
    "    level=logging.DEBUG,\n",
    "    format=\"%(asctime)s - %(levelname)s - %(message)s\",\n",
    "    filename=\"app.log\",\n",
    "    filemode=\"a\"  # append ถ้าอยากเขียนต่อท้าย\n",
    ")\n",
    "\n",
    "logging.info(\"starting the application\")\n",
    "logging.error(\"can't connect to database\")\n"
   ]
  },
  {
   "cell_type": "markdown",
   "id": "275a8493",
   "metadata": {},
   "source": [
    "ใช้ Logger Object แยก Module"
   ]
  },
  {
   "cell_type": "code",
   "execution_count": 10,
   "id": "b34856d4",
   "metadata": {},
   "outputs": [
    {
     "name": "stderr",
     "output_type": "stream",
     "text": [
      "DEBUG:__main__:Debug message\n",
      "2025-08-13 23:06:16,881 - __main__ - ERROR - Error message\n",
      "ERROR:__main__:Error message\n"
     ]
    }
   ],
   "source": [
    "logger = logging.getLogger(__name__)\n",
    "logger.setLevel(logging.DEBUG)\n",
    "\n",
    "# create a console handler\n",
    "console_handler = logging.StreamHandler()\n",
    "console_handler.setLevel(logging.INFO)\n",
    "\n",
    "# create a file handler\n",
    "file_handler = logging.FileHandler(\"app.log\")\n",
    "file_handler.setLevel(logging.ERROR)\n",
    "\n",
    "# Format\n",
    "formatter = logging.Formatter(\"%(asctime)s - %(name)s - %(levelname)s - %(message)s\")\n",
    "console_handler.setFormatter(formatter)\n",
    "file_handler.setFormatter(formatter)\n",
    "\n",
    "# Add handlers to the logger\n",
    "logger.addHandler(console_handler)\n",
    "logger.addHandler(file_handler)\n",
    "\n",
    "logger.debug(\"Debug message\")      # โชว์แค่ใน console เพราะ level\n",
    "logger.error(\"Error message\")      # เข้าทั้ง console และไฟล์\n"
   ]
  }
 ],
 "metadata": {
  "kernelspec": {
   "display_name": "i-do-it-from-scratch",
   "language": "python",
   "name": "python3"
  },
  "language_info": {
   "codemirror_mode": {
    "name": "ipython",
    "version": 3
   },
   "file_extension": ".py",
   "mimetype": "text/x-python",
   "name": "python",
   "nbconvert_exporter": "python",
   "pygments_lexer": "ipython3",
   "version": "3.12.2"
  }
 },
 "nbformat": 4,
 "nbformat_minor": 5
}
